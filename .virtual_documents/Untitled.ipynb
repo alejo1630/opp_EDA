


import zipfile
import pandas as pd

pd.set_option('display.max_columns', None)


zip_path = "philadelphia_data.zip" # path for zip file

with zipfile.ZipFile(zip_path) as z: # CSV in zip file
    print(z.namelist())

    with z.open(z.namelist()[0]) as f: # read CSV file
        df = pd.read_csv(f)

df.head()





df.shape


df.info(show_counts = True)


df["raw_row_number"] = df["raw_row_number"].str.replace("|", "-")




df[df["raw_row_number"].str.contains("-")]["raw_row_number"]


def separa(row):
    retunr 


df.loc[447]


df_test[86]


df["district"].value_counts()



