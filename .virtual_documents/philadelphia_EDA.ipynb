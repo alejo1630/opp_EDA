


import zipfile
import pandas as pd
import matplotlib.pyplot as plt
import seaborn as sns

pd.set_option('display.max_columns', None)
pd.set_option('display.float_format', lambda x: '%.2f' % x)

plt.rcParams['figure.figsize'] = (20, 6)
plt.style.use('ggplot')



zip_path = "philadelphia_data.zip" # path for zip file

with zipfile.ZipFile(zip_path) as z: # CSV in zip file
    print(z.namelist())

    with z.open(z.namelist()[0]) as f: # read CSV file
        df = pd.read_csv(f)

df.head()





df.shape


df.info(show_counts = True)


df.describe()


df.describe(include = "O")











df["raw_row_number"] = df["raw_row_number"].str.replace("|", "-")


df[df["raw_row_number"].str.contains("-")]["raw_row_number"]





df.drop(columns = ["raw_row_number"], inplace = True)
df.head()





df["date"]


df["date"] = pd.to_datetime(df["date"])
df["date"]


df.groupby("date").size()


date_data = df.groupby("date").size()
sns.lineplot(data = date_data)
plt.xlabel("Date")
plt.ylabel("Count")
plt.title("Stops By Day")
plt.show()


df["Year"] = df["date"].dt.year
df["Month"] = df["date"].dt.month_name()
df["Day"] = df["date"].dt.day
df["Day_Week"] = df["date"].dt.day_name()
df[["Year", "Month", "Day", "Day_Week"]].head()





year_data = df.groupby(df["Year"]).size()
year_data
sns.lineplot(data = year_data)
plt.xticks(year_data.index)
plt.show()





plt.figure(figsize=(20,6))
sns.countplot(data = df, x = "Month", hue = "Month")
plt.show()


sns.countplot(data = df[df["Month"] == "March"], x = "Day")
plt.show()



