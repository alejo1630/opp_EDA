





# Import Libraries

import zipfile
import pandas as pd
import numpy as np
import matplotlib.pyplot as plt
import seaborn as sns
from statsmodels.tsa.seasonal import seasonal_decompose
import re
import folium
from folium.plugins import HeatMap, MarkerCluster
import geojson
from branca.colormap import linear, LinearColormap


# Set pandas
pd.set_option('display.max_columns', None)
pd.set_option('display.float_format', lambda x: '%.2f' % x)

# Set visualization
plt.rcParams['figure.figsize'] = (20, 6)
plt.style.use('ggplot')



# Load the data

zip_path = "philadelphia_data.zip" # path for zip file

with zipfile.ZipFile(zip_path) as z: # CSV in zip file
    print(z.namelist())

    with z.open(z.namelist()[0]) as f: # read CSV file
        df = pd.read_csv(f)

df.head()





df.shape





df.info(show_counts = True)


df.isna().sum()





df.describe()


df.describe(include = "O")














df["raw_row_number"] = df["raw_row_number"].str.replace("|", "-")


df[df["raw_row_number"].str.contains("-")]["raw_row_number"]





df.drop(columns = ["raw_row_number"], inplace = True)
df.head()





df["date"]


df["date"] = pd.to_datetime(df["date"]) # Convert objecto to date time
df["date"]


date_data = df.groupby("date").size() # Group by day
sns.lineplot(data = date_data)
plt.xlabel("Date")
plt.ylabel("Count")
plt.title("Stops By Day")
plt.show()


print(f"Day with the most stops was {date_data.idxmax()} with {date_data.max()} events")


print(f"Day with fewest sotps was {date_data.idxmin()} with {date_data.min()} events")


date_data.index.inferred_freq # Data freqency


# Seasonal decompose
decompose = seasonal_decompose(date_data, model='additive', period = 7)  
decompose.plot()
plt.tight_layout()
plt.show()





# Create additional date values

df["Year"] = df["date"].dt.year
df["Month"] = df["date"].dt.month_name()
df["Day"] = df["date"].dt.day
df["Day_Week"] = df["date"].dt.day_name()
df[["Year", "Month", "Day", "Day_Week"]].head()





year_data = df.groupby(df["Year"]).size().reset_index(name = "Count")
sns.lineplot(data = year_data, x = "Year", y = "Count")
plt.xticks(year_data["Year"])
plt.title("Stops By Year")
plt.show()


year_data








months_order = ['January', 'February', 'March', 'April', 'May', 'June',
               'July', 'August', 'September', 'October', 'November', 'December']

df["Month"] = pd.Categorical(df["Month"], categories = months_order, ordered = True)
sns.countplot(data = df, x = "Month", hue = "Month")
plt.title("Stops by Month")
plt.show()








day_data = df.groupby("Day").size().reset_index(name = "Count")
sns.lineplot(data = day_data, x = "Day", y = "Count")
plt.xticks(day_data["Day"])
plt.title("Stops By Day")
plt.show()





# Do not take into account day 31 info
sns.lineplot(data = day_data[day_data["Day"] < 31], x = "Day", y = "Count")
plt.xticks(day_data["Day"])
plt.title("Stops By Day")
plt.show()








days_order = ["Monday", "Tuesday", "Wednesday", "Thursday", "Friday", "Saturday", "Sunday"]
df["Day_Week"] = pd.Categorical(df["Day_Week"], categories = days_order, ordered = True)
sns.countplot(data = df, x = "Day_Week", hue = "Day_Week")
plt.title("Stops by Day of Week")
plt.show()








df["time"]


df["time"] = pd.to_datetime(df["time"], format = '%H:%M:%S').dt.time
df["time"]


df["Hour"] = df["time"].apply(lambda x: x.hour)
df["Hour"]


sns.countplot(data = df, x = "Hour", hue = "Hour")
plt.legend().remove()
plt.title("Stops by Hour")
plt.show()





pivot_month_hour = df.pivot_table(index = "Month",
                                  columns = "Hour",
                                  aggfunc = "size", 
                                  observed = False)

sns.heatmap(pivot_month_hour, cmap = "coolwarm", annot = True, fmt='g')
plt.title("Stops by Hour/Month")
plt.show()






pivot_day_hour = df.pivot_table(index = "Day_Week",
                                  columns = "Hour",
                                  aggfunc = "size", 
                                  observed = False)

sns.heatmap(pivot_day_hour, cmap = "coolwarm", annot = True, fmt='g')
plt.title("Stops by Hour/Day")
plt.show()








# All stops locations
location_data = pd.DataFrame(df["location"].dropna())
location_data


# Locations with higest stops
location_data.value_counts().head(10)


# Locations with fewest stops
location_data.value_counts().tail(10)





def name_road(location):
    
    location = location.upper() # all the lettes in upper case
    location = location.split('/')[-1] # Some stops have several roads, let's focus on the last one
    location = re.sub(r'\b\d+\b', '', location) # remove just numbers          
    location = re.sub(r'\b(BLOCK|N|S|E|W)\b', '', location) # remove BLOCK and cardinal points
    location = re.sub(r'\s+', ' ', location) # remove consecutive spaces          
    return location.strip() # remove spaces before and after the word

# Aplicar la función
location_data['clean_street'] = location_data['location'].apply(name_road)


# Top 20 roads with hightest stops

location_data["clean_street"].value_counts().head(20).plot(kind = "bar")
plt.xlabel("Road")
plt.ylabel("Stops")
plt.title("Stops by Road")
plt.show()





top_stops_streets = pd.DataFrame(location_data["clean_street"].value_counts().head(10).reset_index(name = "count"))
top_stops_streets


top_stops_streets[["name", "type"]] = top_stops_streets["clean_street"].str.split(" ", expand = True)
top_stops_streets["type"] = top_stops_streets["type"].str.replace("AV", "AVE")
top_stops_streets


with open(r"GeoJson_Files\streets.geojson") as f:
    data_streets = geojson.load(f) # Philadelphia Strees GeoJson from https://www.pasda.psu.edu/uci/DataSummary.aspx?dataset=7102

map = folium.Map(location=[39.96, -75.15], zoom_start=12, tiles='cartodbpositron') # Base map

# Color setup
max_val = max(top_stops_streets["count"])
min_val = min(top_stops_streets["count"])
colormap = linear.YlOrRd_05.to_step(10)
colormap = colormap.scale(min_val, max_val)
colormap.caption = 'Roads with more stops'

# Find the GeoJson Data for the Top Streets
features_filtered = []
for feature in data_streets['features']:
    
    name = feature['properties'].get('ST_NAME', '').upper()
    type = feature['properties'].get('ST_TYPE', '').upper()
    
    for i in list(zip(top_stops_streets["name"], top_stops_streets["type"])):
        if (name == i[0]) and (type == i[1]):
            feature['properties']['value'] = int(top_stops_streets.loc[top_stops_streets["name"] == name, "count"].values[0])
            features_filtered.append(feature)

geojson_filtered = {
    "type": "FeatureCollection",
    "features": features_filtered}

# Style
def style(feature):
    value = feature['properties']['value']
    return {
        'color': colormap(value),
        'weight': 4,
        'opacity': 0.8
    }

# Add the lines to the map
folium.GeoJson(
    geojson_filtered,
    style_function = style,
    tooltip = folium.GeoJsonTooltip(fields=["ST_NAME", "value"], aliases=["Road:", "Value:"])).add_to(map)

colormap.add_to(map)
map




map.save("HTML_Maps/top_roads.html") # Save map as HTML








coordinates = df[["lat", "lng"]].dropna()
coordinates.head()


len(coordinates)


coordinates_sample = coordinates.sample(frac = 0.01, random_state = 42)


#Heat Map
map2 = folium.Map(location=[39.96, -75.15], zoom_start=12, tiles='cartodbpositron') # Base map
folium.plugins.HeatMap(coordinates_sample.values.tolist(), radius = 8, blur = 9, max_zoom = 13).add_to(map2)
map2



map2.save("HTML_Maps/stop_heatmap.html") # Save map as HTML


# Points

map3 = folium.Map(location=[39.96, -75.15], zoom_start = 12, tiles='cartodbpositron') # Base map

for i, row in coordinates_sample.iterrows():
    folium.Circle(
        location=[row['lat'], row['lng']],
        radius = 20,
        color = 'red',
        fill = True,
        fill_opacity = 0.3
    ).add_to(map3)

map3


map3.save("HTML_Maps/stop_points.html") # Save map as HTML


# Cluster

map4 = folium.Map(location=[39.96, -75.15], zoom_start = 12, tiles='cartodbpositron') # Base map

cluster = MarkerCluster().add_to(map4)
for i, row in coordinates_sample.iterrows():
    folium.Marker(
        location=[row['lat'], row['lng']],
        popup=f"Lat: {row['lat']}, Lng: {row['lng']}"
    ).add_to(cluster)

map4


map4.save("HTML_Maps/stop_clusters.html") # Save map as HTML








df["district"]


df["district"] = df["district"].astype("Int64")
district_data


district_data = df.groupby("district").size().reset_index(name = "count")
district_data.sort_values(by = "count", ascending = False)


with open(r"GeoJson_Files\Boundaries_District.geojson") as f:
    district_geojson = geojson.load(f) # Philadelphia District GeoJson from https://opendataphilly.org/datasets/police-districts/

map5 = folium.Map(location=[39.96, -75.15], zoom_start = 12, tiles = "cartodbpositron") # Base map

district_data['district'] = district_data['district'].astype(str)

for feature in district_geojson['features']:
    district_id = str(feature['properties']['DIST_NUMC'])  # Asegúrate de usar el nombre correcto de la propiedad
    count_row = district_data[district_data['district'] == district_id]
    if not count_row.empty:
        feature['properties']['count'] = int(count_row['count'].values[0])
    else:
        feature['properties']['count'] = 0

folium.Choropleth(
    geo_data = district_geojson,
    data = district_data,
    columns = ['district', 'count'],
    key_on = 'feature.properties.DIST_NUMC', 
    fill_opacity = 0.7,
    line_opacity = 0.2,
    legend_name = 'Stops by Police District',
    highlight = True,
    fill_color = "OrRd"
).add_to(map5)

tooltip = folium.GeoJson(
    district_geojson,
    style_function=lambda x: {'fillColor': 'transparent', 'color': 'transparent', 'weight': 0},
    tooltip=folium.GeoJsonTooltip(
        fields=['DIST_NUMC', 'count'],
        aliases=['District', 'Stops'],
        localize=True,
        sticky=True,
        labels=True,
        style=("background-color: white; color: #333333; font-family: Arial; font-size: 12px; padding: 5px;")
    )
).add_to(map5)

map5


map5.save("HTML_Maps/stop_districts.html") # Save map as HTML





df["service_area"]


df["service_area"] = pd.to_numeric(df['service_area'], errors='coerce').astype("Int64")
df["service_area"]


sa_data = df.groupby("service_area").size().reset_index(name = "count")
sa_data.sort_values(by = "count", ascending = False)


with open(r"GeoJson_Files\Boundaries_PSA.geojson") as f:
    sa_geojson = geojson.load(f) # Philadelphia Service Areas GeoJson from https://opendataphilly.org/datasets/police-service-areas/

map6 = folium.Map(location=[39.96, -75.15], zoom_start = 12, tiles='cartodbpositron') # Base map

sa_data['service_area'] = sa_data['service_area'].astype(str)
sa_data["service_area"] = sa_data["service_area"].str.replace("7700", "77A")
sa_data["service_area"] = sa_data["service_area"].astype(str).str.zfill(3)

for feature in sa_geojson['features']:
    sa_id = str(feature['properties']['PSA_NUM'])  # Asegúrate de usar el nombre correcto de la propiedad
    count_row = sa_data[sa_data['service_area'] == sa_id]
    if not count_row.empty:
        feature['properties']['count'] = int(count_row['count'].values[0])
    else:
        feature['properties']['count'] = 0

folium.Choropleth(
    geo_data = sa_geojson,
    data = sa_data,
    columns = ['service_area', 'count'],
    key_on = 'feature.properties.PSA_NUM', 
    fill_opacity = 0.7,
    line_opacity = 0.2,
    legend_name = 'Stops by Police Service Area',
    highlight = True,
    fill_color = "OrRd"
).add_to(map6)

tooltip = folium.GeoJson(
    sa_geojson,
    style_function=lambda x: {'fillColor': 'transparent', 'color': 'transparent', 'weight': 0},
    tooltip=folium.GeoJsonTooltip(
        fields=['PSA_NUM', 'count'],
        aliases=['Service Area', 'Stops'],
        localize=True,
        sticky=True,
        labels=True,
        style=("background-color: white; color: #333333; font-family: Arial; font-size: 12px; padding: 5px;")
    )
).add_to(map6)

map6



