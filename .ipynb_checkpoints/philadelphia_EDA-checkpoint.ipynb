{
 "cells": [
  {
   "cell_type": "markdown",
   "id": "e9505d37-5d73-4e22-97af-e2aa23dcd26c",
   "metadata": {},
   "source": [
    "# Philadelphia Open Policing Project (OPP)"
   ]
  },
  {
   "cell_type": "code",
   "execution_count": 47,
   "id": "b92f2d7a-2f00-4cdd-a9fe-83afc5306736",
   "metadata": {},
   "outputs": [],
   "source": [
    "import zipfile\n",
    "import pandas as pd\n",
    "\n",
    "pd.set_option('display.max_columns', None)"
   ]
  },
  {
   "cell_type": "code",
   "execution_count": 128,
   "id": "9e733d17-cd44-4f06-83a8-3b54cfdb3ed7",
   "metadata": {},
   "outputs": [
    {
     "name": "stdout",
     "output_type": "stream",
     "text": [
      "['pa_philadelphia_2020_04_01.csv']\n"
     ]
    },
    {
     "name": "stderr",
     "output_type": "stream",
     "text": [
      "C:\\Users\\acast\\AppData\\Local\\Temp\\ipykernel_22020\\524992427.py:7: DtypeWarning: Columns (7) have mixed types. Specify dtype option on import or set low_memory=False.\n",
      "  df = pd.read_csv(f)\n"
     ]
    },
    {
     "data": {
      "text/html": [
       "<div>\n",
       "<style scoped>\n",
       "    .dataframe tbody tr th:only-of-type {\n",
       "        vertical-align: middle;\n",
       "    }\n",
       "\n",
       "    .dataframe tbody tr th {\n",
       "        vertical-align: top;\n",
       "    }\n",
       "\n",
       "    .dataframe thead th {\n",
       "        text-align: right;\n",
       "    }\n",
       "</style>\n",
       "<table border=\"1\" class=\"dataframe\">\n",
       "  <thead>\n",
       "    <tr style=\"text-align: right;\">\n",
       "      <th></th>\n",
       "      <th>raw_row_number</th>\n",
       "      <th>date</th>\n",
       "      <th>time</th>\n",
       "      <th>location</th>\n",
       "      <th>lat</th>\n",
       "      <th>lng</th>\n",
       "      <th>district</th>\n",
       "      <th>service_area</th>\n",
       "      <th>subject_age</th>\n",
       "      <th>subject_race</th>\n",
       "      <th>subject_sex</th>\n",
       "      <th>type</th>\n",
       "      <th>arrest_made</th>\n",
       "      <th>outcome</th>\n",
       "      <th>contraband_found</th>\n",
       "      <th>frisk_performed</th>\n",
       "      <th>search_conducted</th>\n",
       "      <th>search_person</th>\n",
       "      <th>search_vehicle</th>\n",
       "      <th>raw_race</th>\n",
       "      <th>raw_individual_contraband</th>\n",
       "      <th>raw_vehicle_contraband</th>\n",
       "    </tr>\n",
       "  </thead>\n",
       "  <tbody>\n",
       "    <tr>\n",
       "      <th>0</th>\n",
       "      <td>411981</td>\n",
       "      <td>2014-01-01</td>\n",
       "      <td>01:14:00</td>\n",
       "      <td>NaN</td>\n",
       "      <td>NaN</td>\n",
       "      <td>NaN</td>\n",
       "      <td>19.0</td>\n",
       "      <td>191</td>\n",
       "      <td>31.0</td>\n",
       "      <td>black</td>\n",
       "      <td>male</td>\n",
       "      <td>pedestrian</td>\n",
       "      <td>True</td>\n",
       "      <td>arrest</td>\n",
       "      <td>True</td>\n",
       "      <td>False</td>\n",
       "      <td>True</td>\n",
       "      <td>True</td>\n",
       "      <td>False</td>\n",
       "      <td>Black - Non-Latino</td>\n",
       "      <td>True</td>\n",
       "      <td>False</td>\n",
       "    </tr>\n",
       "    <tr>\n",
       "      <th>1</th>\n",
       "      <td>407442</td>\n",
       "      <td>2014-01-01</td>\n",
       "      <td>01:57:00</td>\n",
       "      <td>NaN</td>\n",
       "      <td>NaN</td>\n",
       "      <td>NaN</td>\n",
       "      <td>12.0</td>\n",
       "      <td>121</td>\n",
       "      <td>21.0</td>\n",
       "      <td>black</td>\n",
       "      <td>male</td>\n",
       "      <td>pedestrian</td>\n",
       "      <td>True</td>\n",
       "      <td>arrest</td>\n",
       "      <td>False</td>\n",
       "      <td>True</td>\n",
       "      <td>True</td>\n",
       "      <td>True</td>\n",
       "      <td>False</td>\n",
       "      <td>Black - Non-Latino</td>\n",
       "      <td>False</td>\n",
       "      <td>False</td>\n",
       "    </tr>\n",
       "    <tr>\n",
       "      <th>2</th>\n",
       "      <td>217556</td>\n",
       "      <td>2014-01-01</td>\n",
       "      <td>03:30:00</td>\n",
       "      <td>3400 BLOCK SPRUCE ST</td>\n",
       "      <td>39.950424</td>\n",
       "      <td>-75.192680</td>\n",
       "      <td>18.0</td>\n",
       "      <td>183</td>\n",
       "      <td>24.0</td>\n",
       "      <td>black</td>\n",
       "      <td>male</td>\n",
       "      <td>pedestrian</td>\n",
       "      <td>False</td>\n",
       "      <td>NaN</td>\n",
       "      <td>NaN</td>\n",
       "      <td>False</td>\n",
       "      <td>False</td>\n",
       "      <td>False</td>\n",
       "      <td>False</td>\n",
       "      <td>Black - Non-Latino</td>\n",
       "      <td>False</td>\n",
       "      <td>False</td>\n",
       "    </tr>\n",
       "    <tr>\n",
       "      <th>3</th>\n",
       "      <td>217557</td>\n",
       "      <td>2014-01-01</td>\n",
       "      <td>03:40:00</td>\n",
       "      <td>3400 BLOCK SPRUCE ST</td>\n",
       "      <td>39.950424</td>\n",
       "      <td>-75.192680</td>\n",
       "      <td>18.0</td>\n",
       "      <td>183</td>\n",
       "      <td>20.0</td>\n",
       "      <td>black</td>\n",
       "      <td>male</td>\n",
       "      <td>pedestrian</td>\n",
       "      <td>False</td>\n",
       "      <td>NaN</td>\n",
       "      <td>NaN</td>\n",
       "      <td>False</td>\n",
       "      <td>False</td>\n",
       "      <td>False</td>\n",
       "      <td>False</td>\n",
       "      <td>Black - Non-Latino</td>\n",
       "      <td>False</td>\n",
       "      <td>False</td>\n",
       "    </tr>\n",
       "    <tr>\n",
       "      <th>4</th>\n",
       "      <td>230988</td>\n",
       "      <td>2014-01-01</td>\n",
       "      <td>08:30:00</td>\n",
       "      <td>N 56TH ST / UPLAND WAY</td>\n",
       "      <td>39.983712</td>\n",
       "      <td>-75.234188</td>\n",
       "      <td>19.0</td>\n",
       "      <td>193</td>\n",
       "      <td>31.0</td>\n",
       "      <td>black</td>\n",
       "      <td>male</td>\n",
       "      <td>vehicular</td>\n",
       "      <td>False</td>\n",
       "      <td>NaN</td>\n",
       "      <td>NaN</td>\n",
       "      <td>False</td>\n",
       "      <td>False</td>\n",
       "      <td>False</td>\n",
       "      <td>False</td>\n",
       "      <td>Black - Non-Latino</td>\n",
       "      <td>False</td>\n",
       "      <td>False</td>\n",
       "    </tr>\n",
       "  </tbody>\n",
       "</table>\n",
       "</div>"
      ],
      "text/plain": [
       "  raw_row_number        date      time                location        lat  \\\n",
       "0         411981  2014-01-01  01:14:00                     NaN        NaN   \n",
       "1         407442  2014-01-01  01:57:00                     NaN        NaN   \n",
       "2         217556  2014-01-01  03:30:00    3400 BLOCK SPRUCE ST  39.950424   \n",
       "3         217557  2014-01-01  03:40:00    3400 BLOCK SPRUCE ST  39.950424   \n",
       "4         230988  2014-01-01  08:30:00  N 56TH ST / UPLAND WAY  39.983712   \n",
       "\n",
       "         lng  district service_area  subject_age subject_race subject_sex  \\\n",
       "0        NaN      19.0          191         31.0        black        male   \n",
       "1        NaN      12.0          121         21.0        black        male   \n",
       "2 -75.192680      18.0          183         24.0        black        male   \n",
       "3 -75.192680      18.0          183         20.0        black        male   \n",
       "4 -75.234188      19.0          193         31.0        black        male   \n",
       "\n",
       "         type  arrest_made outcome contraband_found  frisk_performed  \\\n",
       "0  pedestrian         True  arrest             True            False   \n",
       "1  pedestrian         True  arrest            False             True   \n",
       "2  pedestrian        False     NaN              NaN            False   \n",
       "3  pedestrian        False     NaN              NaN            False   \n",
       "4   vehicular        False     NaN              NaN            False   \n",
       "\n",
       "   search_conducted  search_person  search_vehicle            raw_race  \\\n",
       "0              True           True           False  Black - Non-Latino   \n",
       "1              True           True           False  Black - Non-Latino   \n",
       "2             False          False           False  Black - Non-Latino   \n",
       "3             False          False           False  Black - Non-Latino   \n",
       "4             False          False           False  Black - Non-Latino   \n",
       "\n",
       "   raw_individual_contraband  raw_vehicle_contraband  \n",
       "0                       True                   False  \n",
       "1                      False                   False  \n",
       "2                      False                   False  \n",
       "3                      False                   False  \n",
       "4                      False                   False  "
      ]
     },
     "execution_count": 128,
     "metadata": {},
     "output_type": "execute_result"
    }
   ],
   "source": [
    "zip_path = \"philadelphia_data.zip\" # path for zip file\n",
    "\n",
    "with zipfile.ZipFile(zip_path) as z: # CSV in zip file\n",
    "    print(z.namelist())\n",
    "\n",
    "    with z.open(z.namelist()[0]) as f: # read CSV file\n",
    "        df = pd.read_csv(f)\n",
    "\n",
    "df.head()"
   ]
  },
  {
   "cell_type": "markdown",
   "id": "c032b0d4-383f-4e0e-975b-e5e3d20aba19",
   "metadata": {},
   "source": [
    "| Column name               | Column meaning                                                                                                                                                                                                                                                                                                                                                                                                   | Example value    |\n",
    "|:--------------------------|:-----------------------------------------------------------------------------------------------------------------------------------------------------------------------------------------------------------------------------------------------------------------------------------------------------------------------------------------------------------------------------------------------------------------|:-----------------|\n",
    "| raw_row_number            | An number used to join clean data back to the raw data                                                                                                                                                                                                                                                                                                                                                           | 38299            |\n",
    "| date                      | The date of the stop, in YYYY-MM-DD format. Some states do not provide the exact stop date: for example, they only provide the year or quarter in which the stop occurred. For these states, stop_date is set to the date at the beginning of the period: for example, January 1 if only year is provided.                                                                                                       | 2017-02-02       |\n",
    "| time                      | The 24-hour time of the stop, in HH:MM format.                                                                                                                                                                                                                                                                                                                                                                   | 20:15            |\n",
    "| location                  | The freeform text of the location. Occasionally, this represents the concatenation of several raw fields, i.e. street_number, street_name                                                                                                                                                                                                                                                                        | 248 Stockton Rd. |\n",
    "| lat                       | The latitude of the stop. If not provided by the department, we attempt to geocode any provided address or location using Google Maps. Google Maps returns a \"best effort\" response, which may not be completely accurate if the provided location was malformed or underspecified. To protect against suprious responses, geocodes more than 4 standard deviations from the median stop lat/lng are set to NA.  | 72.23545         |\n",
    "| lng                       | The longitude of the stop. If not provided by the department, we attempt to geocode any provided address or location using Google Maps. Google Maps returns a \"best effort\" response, which may not be completely accurate if the provided location was malformed or underspecified. To protect against suprious responses, geocodes more than 4 standard deviations from the median stop lat/lng are set to NA. | 115.2808         |\n",
    "| district                  | Police district. If not provided, but we have retrieved police department shapefiles and the location of the stop, we geocode the stop and find the district using the shapefiles.                                                                                                                                                                                                                               | 8                |\n",
    "| service_area              | Police service area. If not provided, but we have retrieved police department shapefiles and the location of the stop, we geocode the stop and find the service area using the shapefiles.                                                                                                                                                                                                                       | 8                |\n",
    "| subject_age               | The age of the stopped subject. When date of birth is given, we calculate the age based on the stop date. Values outside the range of 10-110 are coerced to NA.                                                                                                                                                                                                                                                  | 54.23            |\n",
    "| subject_race              | The race of the stopped subject. Values are standardized to white, black, hispanic, asian/pacific islander, and other/unknown                                                                                                                                                                                                                                                                                    | hispanic         |\n",
    "| subject_sex               | The recorded sex of the stopped subject.                                                                                                                                                                                                                                                                                                                                                                         | female           |\n",
    "| type                      | Type of stop: vehicular or pedestrian.                                                                                                                                                                                                                                                                                                                                                                           | vehicular        |\n",
    "| arrest_made               | Indicates whether an arrest made.                                                                                                                                                                                                                                                                                                                                                                                | FALSE            |\n",
    "| outcome                   | The strictest action taken among arrest, citation, warning, and summons.                                                                                                                                                                                                                                                                                                                                         | citation         |\n",
    "| contraband_found          | Indicates whether contraband was found. When search_conducted is NA, this is coerced to NA under the assumption that contraband_found shouldn't be discovered when no search occurred and likely represents a data error.                                                                                                                                                                                        | FALSE            |\n",
    "| frisk_performed           | Indicates whether a frisk was performed. This is technically different from a search, but departments will sometimes include frisks as a search type.                                                                                                                                                                                                                                                            | TRUE             |\n",
    "| search_conducted          | Indicates whether any type of search was conducted, i.e. driver, passenger, vehicle. Frisks are excluded where the department has provided resolution on both.                                                                                                                                                                                                                                                   | TRUE             |\n",
    "| search_person             | Indicates whether a search of a person has occurred. This is only defined when search_conducted is TRUE.                                                                                                                                                                                                                                                                                                         | TRUE             |\n",
    "| search_vehicle            | Indicates whether a search of a vehicle has occurred. This is only defined when search_conducted is TRUE.                                                                                                                                                                                                                                                                                                        | TRUE             |\n",
    "| raw_race                  | Raw racial data as received before standardization.                                                                                                                                                                                                                                                                                                                                                              | h                |\n",
    "| raw_individual_contraband | Raw field related to contraband on the individual.                                                                                                                                                                                                                                                                                                                                                               | drug             |\n",
    "| raw_vehicle_contraband    | Raw field related to contraband in the vehicle.    "
   ]
  },
  {
   "cell_type": "code",
   "execution_count": 45,
   "id": "25f12b6b-39c0-418d-a682-f4616626c389",
   "metadata": {},
   "outputs": [
    {
     "data": {
      "text/plain": [
       "(1865096, 22)"
      ]
     },
     "execution_count": 45,
     "metadata": {},
     "output_type": "execute_result"
    }
   ],
   "source": [
    "df.shape"
   ]
  },
  {
   "cell_type": "code",
   "execution_count": 59,
   "id": "eecf3e74-3a62-46cf-a73d-18e69af8493a",
   "metadata": {
    "scrolled": true
   },
   "outputs": [
    {
     "name": "stdout",
     "output_type": "stream",
     "text": [
      "<class 'pandas.core.frame.DataFrame'>\n",
      "RangeIndex: 1865096 entries, 0 to 1865095\n",
      "Data columns (total 22 columns):\n",
      " #   Column                     Non-Null Count    Dtype  \n",
      "---  ------                     --------------    -----  \n",
      " 0   raw_row_number             1865096 non-null  object \n",
      " 1   date                       1865096 non-null  object \n",
      " 2   time                       1865096 non-null  object \n",
      " 3   location                   1827596 non-null  object \n",
      " 4   lat                        1760399 non-null  float64\n",
      " 5   lng                        1760399 non-null  float64\n",
      " 6   district                   1865095 non-null  float64\n",
      " 7   service_area               1865092 non-null  object \n",
      " 8   subject_age                1860537 non-null  float64\n",
      " 9   subject_race               1865096 non-null  object \n",
      " 10  subject_sex                1864446 non-null  object \n",
      " 11  type                       1865096 non-null  object \n",
      " 12  arrest_made                1865096 non-null  bool   \n",
      " 13  outcome                    95476 non-null    object \n",
      " 14  contraband_found           116455 non-null   object \n",
      " 15  frisk_performed            1865096 non-null  bool   \n",
      " 16  search_conducted           1865096 non-null  bool   \n",
      " 17  search_person              1865096 non-null  bool   \n",
      " 18  search_vehicle             1865096 non-null  bool   \n",
      " 19  raw_race                   1865096 non-null  object \n",
      " 20  raw_individual_contraband  1865096 non-null  bool   \n",
      " 21  raw_vehicle_contraband     1865096 non-null  bool   \n",
      "dtypes: bool(7), float64(4), object(11)\n",
      "memory usage: 225.9+ MB\n"
     ]
    }
   ],
   "source": [
    "df.info(show_counts = True)"
   ]
  },
  {
   "cell_type": "code",
   "execution_count": 132,
   "id": "d4e270f5-1fcb-4d96-8ca4-83a7720b7bc6",
   "metadata": {},
   "outputs": [],
   "source": [
    "df[\"raw_row_number\"] = df[\"raw_row_number\"].str.replace(\"|\", \"-\")\n",
    "\n"
   ]
  },
  {
   "cell_type": "code",
   "execution_count": 146,
   "id": "363443d2-f3b1-4699-bd31-c1d8150d8a34",
   "metadata": {},
   "outputs": [
    {
     "data": {
      "text/plain": [
       "86                231739-231740\n",
       "133               358835-358836\n",
       "243               249320-249321\n",
       "437               156597-156598\n",
       "447        250868-250870-400834\n",
       "                   ...         \n",
       "1864369         1788091-1791591\n",
       "1864375         1788931-1789797\n",
       "1864807         1790300-1790309\n",
       "1864966         1794964-1794969\n",
       "1865012         1790578-1790847\n",
       "Name: raw_row_number, Length: 24796, dtype: object"
      ]
     },
     "execution_count": 146,
     "metadata": {},
     "output_type": "execute_result"
    }
   ],
   "source": [
    "df[df[\"raw_row_number\"].str.contains(\"-\")][\"raw_row_number\"]"
   ]
  },
  {
   "cell_type": "code",
   "execution_count": null,
   "id": "f4f1fbd1-82b7-42f4-97d8-7dc9043dd96e",
   "metadata": {},
   "outputs": [],
   "source": [
    "def separa(row):\n",
    "    retunr "
   ]
  },
  {
   "cell_type": "code",
   "execution_count": 150,
   "id": "0c85e30e-be9c-47f6-994d-eefdf4c37caa",
   "metadata": {},
   "outputs": [
    {
     "data": {
      "text/plain": [
       "raw_row_number                   250868-250870-400834\n",
       "date                                       2014-01-09\n",
       "time                                         09:34:00\n",
       "location                     1500 BLOCK N STILLMAN ST\n",
       "lat                                         39.978311\n",
       "lng                                         -75.17715\n",
       "district                                         22.0\n",
       "service_area                                      224\n",
       "subject_age                                      18.0\n",
       "subject_race                                    black\n",
       "subject_sex                                      male\n",
       "type                                       pedestrian\n",
       "arrest_made                                     False\n",
       "outcome                                           NaN\n",
       "contraband_found                                  NaN\n",
       "frisk_performed                                 False\n",
       "search_conducted                                False\n",
       "search_person                                   False\n",
       "search_vehicle                                  False\n",
       "raw_race                           Black - Non-Latino\n",
       "raw_individual_contraband                       False\n",
       "raw_vehicle_contraband                          False\n",
       "Name: 447, dtype: object"
      ]
     },
     "execution_count": 150,
     "metadata": {},
     "output_type": "execute_result"
    }
   ],
   "source": [
    "df.loc[447]"
   ]
  },
  {
   "cell_type": "code",
   "execution_count": 110,
   "id": "aa416cca-13ee-4374-9d87-8b3c789eb5b4",
   "metadata": {},
   "outputs": [
    {
     "data": {
      "text/plain": [
       "'231739|231740'"
      ]
     },
     "execution_count": 110,
     "metadata": {},
     "output_type": "execute_result"
    }
   ],
   "source": [
    "df_test[86]"
   ]
  },
  {
   "cell_type": "code",
   "execution_count": 162,
   "id": "b692f3d0-5278-48f2-8241-26d26b63e2dc",
   "metadata": {},
   "outputs": [
    {
     "data": {
      "text/plain": [
       "district\n",
       "24.0    161845\n",
       "19.0    147454\n",
       "14.0    139746\n",
       "35.0    137265\n",
       "39.0    134397\n",
       "25.0    128258\n",
       "18.0    123172\n",
       "22.0    119692\n",
       "12.0    117845\n",
       "15.0     88697\n",
       "17.0     76598\n",
       "3.0      75871\n",
       "2.0      69581\n",
       "26.0     62838\n",
       "16.0     59871\n",
       "1.0      46452\n",
       "9.0      41961\n",
       "6.0      41665\n",
       "8.0      36386\n",
       "7.0      29690\n",
       "5.0      21131\n",
       "77.0      4680\n",
       "Name: count, dtype: int64"
      ]
     },
     "execution_count": 162,
     "metadata": {},
     "output_type": "execute_result"
    }
   ],
   "source": [
    "df[\"district\"].value_counts()"
   ]
  },
  {
   "cell_type": "markdown",
   "id": "6bffda09-f400-4ec4-819f-b187552b2a57",
   "metadata": {},
   "source": [
    "### raw_row_number\r\n",
    "Borrar columna\r\n",
    "\r\n",
    "### date\r\n",
    "- convertir datos a formato de fecha\r\n",
    "- estudiar rango y patrones de tiempo (año, mes, semana, día)\r\n",
    "\r\n",
    "### time\r\n",
    "- convertir datos a formato de fehca\r\n",
    "- estudiar rango y patrones de tiempo (hora)\r\n",
    "- mapa de calor meses vs hora\r\n",
    "\r\n",
    "### location\r\n",
    "- Análisis nombre localizaicones (GPT)\r\n",
    "- Agrupar por localizaciones\r\n",
    "- Crear lineas con colores de acuerdo con la cantidad de multas\r\n",
    "\r\n",
    "### lat lng\r\n",
    "- posicionar la información sobre un mapa\r\n",
    "\r\n",
    "### District\r\n",
    "- Diagrama de barras\r\n",
    "\r\n",
    "### Service Area\r\n",
    "- Diagrama de Barras"
   ]
  }
 ],
 "metadata": {
  "kernelspec": {
   "display_name": "Python 3 (ipykernel)",
   "language": "python",
   "name": "python3"
  },
  "language_info": {
   "codemirror_mode": {
    "name": "ipython",
    "version": 3
   },
   "file_extension": ".py",
   "mimetype": "text/x-python",
   "name": "python",
   "nbconvert_exporter": "python",
   "pygments_lexer": "ipython3",
   "version": "3.12.4"
  }
 },
 "nbformat": 4,
 "nbformat_minor": 5
}
